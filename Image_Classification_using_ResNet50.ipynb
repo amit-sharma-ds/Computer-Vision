{
  "nbformat": 4,
  "nbformat_minor": 0,
  "metadata": {
    "colab": {
      "provenance": []
    },
    "kernelspec": {
      "name": "python3",
      "display_name": "Python 3"
    },
    "language_info": {
      "name": "python"
    }
  },
  "cells": [
    {
      "cell_type": "markdown",
      "source": [
        "# Image Classification using ResNet50"
      ],
      "metadata": {
        "id": "qqlVhcqwOrUU"
      }
    },
    {
      "cell_type": "code",
      "execution_count": 1,
      "metadata": {
        "colab": {
          "base_uri": "https://localhost:8080/"
        },
        "id": "v7oI6cqiOjMH",
        "outputId": "3d06f707-c846-4147-c45d-88fcef25359b"
      },
      "outputs": [
        {
          "output_type": "stream",
          "name": "stdout",
          "text": [
            "Downloading data from https://storage.googleapis.com/tensorflow/keras-applications/resnet/resnet50_weights_tf_dim_ordering_tf_kernels.h5\n",
            "\u001b[1m102967424/102967424\u001b[0m \u001b[32m━━━━━━━━━━━━━━━━━━━━\u001b[0m\u001b[37m\u001b[0m \u001b[1m1s\u001b[0m 0us/step\n",
            "\u001b[1m1/1\u001b[0m \u001b[32m━━━━━━━━━━━━━━━━━━━━\u001b[0m\u001b[37m\u001b[0m \u001b[1m3s\u001b[0m 3s/step\n",
            "Downloading data from https://storage.googleapis.com/download.tensorflow.org/data/imagenet_class_index.json\n",
            "\u001b[1m35363/35363\u001b[0m \u001b[32m━━━━━━━━━━━━━━━━━━━━\u001b[0m\u001b[37m\u001b[0m \u001b[1m0s\u001b[0m 0us/step\n",
            "1. suit: 0.12\n",
            "2. drumstick: 0.12\n",
            "3. Band_Aid: 0.06\n",
            "4. Windsor_tie: 0.06\n",
            "5. theater_curtain: 0.06\n"
          ]
        }
      ],
      "source": [
        "from keras.applications.resnet50 import ResNet50, decode_predictions, preprocess_input\n",
        "from keras.preprocessing import image\n",
        "import numpy as np\n",
        "\n",
        "# Load ResNet50 model pre-trained on ImageNet\n",
        "model = ResNet50(weights='imagenet')\n",
        "\n",
        "# Load and preprocess the image\n",
        "img_path = '/content/img5.jpg'  # Replace with your image path\n",
        "img = image.load_img(img_path, target_size=(224, 224))\n",
        "img_array = image.img_to_array(img)\n",
        "img_array = np.expand_dims(img_array, axis=0)\n",
        "img_array = preprocess_input(img_array)\n",
        "\n",
        "# Predict the top 5 labels\n",
        "predictions = model.predict(img_array)\n",
        "decoded_predictions = decode_predictions(predictions, top=5)[0]\n",
        "\n",
        "# Print top 5 predictions\n",
        "for i, (imagenet_id, label, score) in enumerate(decoded_predictions):\n",
        "    print(f\"{i+1}. {label}: {score:.2f}\")\n"
      ]
    },
    {
      "cell_type": "code",
      "source": [],
      "metadata": {
        "id": "memVSeRbO0Zu"
      },
      "execution_count": null,
      "outputs": []
    }
  ]
}